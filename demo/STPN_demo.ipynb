{
  "nbformat": 4,
  "nbformat_minor": 0,
  "metadata": {
    "colab": {
      "name": "STPN_demo.ipynb",
      "provenance": [],
      "collapsed_sections": []
    },
    "kernelspec": {
      "name": "python3",
      "display_name": "Python 3"
    },
    "language_info": {
      "name": "python"
    }
  },
  "cells": [
    {
      "cell_type": "markdown",
      "source": [
        "# SpatioTemporal Pattern Network (STPN) Tutorial \n",
        "This Python Notebook provides a tutorial on using [SpatioTemporal Pattern Network (STPN)](https://pypi.org/project/STPN/#description) for binary and multi-target(/regression) prediction"
      ],
      "metadata": {
        "id": "Otog22p49Vc_"
      }
    },
    {
      "cell_type": "markdown",
      "source": [
        "## Installing STPN from PyPi"
      ],
      "metadata": {
        "id": "ozr9hgK_-Hzz"
      }
    },
    {
      "cell_type": "code",
      "execution_count": 5,
      "metadata": {
        "colab": {
          "base_uri": "https://localhost:8080/"
        },
        "id": "EmUkFGd2Jn0j",
        "outputId": "81b6cc6a-cb19-4714-ce87-e3c025522010"
      },
      "outputs": [
        {
          "output_type": "stream",
          "name": "stdout",
          "text": [
            "Collecting stpn\n",
            "  Downloading STPN-0.0.5-py3-none-any.whl (8.5 kB)\n",
            "Requirement already satisfied: numpy in /usr/local/lib/python3.7/dist-packages (from stpn) (1.21.5)\n",
            "Requirement already satisfied: matplotlib in /usr/local/lib/python3.7/dist-packages (from stpn) (3.2.2)\n",
            "Requirement already satisfied: sklearn in /usr/local/lib/python3.7/dist-packages (from stpn) (0.0)\n",
            "Requirement already satisfied: pandas in /usr/local/lib/python3.7/dist-packages (from stpn) (1.3.5)\n",
            "Requirement already satisfied: cycler>=0.10 in /usr/local/lib/python3.7/dist-packages (from matplotlib->stpn) (0.11.0)\n",
            "Requirement already satisfied: kiwisolver>=1.0.1 in /usr/local/lib/python3.7/dist-packages (from matplotlib->stpn) (1.4.0)\n",
            "Requirement already satisfied: python-dateutil>=2.1 in /usr/local/lib/python3.7/dist-packages (from matplotlib->stpn) (2.8.2)\n",
            "Requirement already satisfied: pyparsing!=2.0.4,!=2.1.2,!=2.1.6,>=2.0.1 in /usr/local/lib/python3.7/dist-packages (from matplotlib->stpn) (3.0.7)\n",
            "Requirement already satisfied: typing-extensions in /usr/local/lib/python3.7/dist-packages (from kiwisolver>=1.0.1->matplotlib->stpn) (3.10.0.2)\n",
            "Requirement already satisfied: six>=1.5 in /usr/local/lib/python3.7/dist-packages (from python-dateutil>=2.1->matplotlib->stpn) (1.15.0)\n",
            "Requirement already satisfied: pytz>=2017.3 in /usr/local/lib/python3.7/dist-packages (from pandas->stpn) (2018.9)\n",
            "Requirement already satisfied: scikit-learn in /usr/local/lib/python3.7/dist-packages (from sklearn->stpn) (1.0.2)\n",
            "Requirement already satisfied: threadpoolctl>=2.0.0 in /usr/local/lib/python3.7/dist-packages (from scikit-learn->sklearn->stpn) (3.1.0)\n",
            "Requirement already satisfied: scipy>=1.1.0 in /usr/local/lib/python3.7/dist-packages (from scikit-learn->sklearn->stpn) (1.4.1)\n",
            "Requirement already satisfied: joblib>=0.11 in /usr/local/lib/python3.7/dist-packages (from scikit-learn->sklearn->stpn) (1.1.0)\n",
            "Installing collected packages: stpn\n",
            "Successfully installed stpn-0.0.5\n"
          ]
        }
      ],
      "source": [
        "# Install STPN\n",
        "!pip install stpn"
      ]
    },
    {
      "cell_type": "markdown",
      "source": [
        "## Required imports"
      ],
      "metadata": {
        "id": "UMk3Vn_i-dPt"
      }
    },
    {
      "cell_type": "code",
      "source": [
        "# Imports\n",
        "from STPN.util import *\n",
        "import pandas as pd"
      ],
      "metadata": {
        "id": "SXHn0WWz6RVr"
      },
      "execution_count": 6,
      "outputs": []
    },
    {
      "cell_type": "markdown",
      "source": [
        "## Define STPN parameters"
      ],
      "metadata": {
        "id": "he23lFX1-gza"
      }
    },
    {
      "cell_type": "code",
      "source": [
        "# Define parameters\n",
        "depth = 2\n",
        "tau = 1"
      ],
      "metadata": {
        "id": "ca5TmAtI6Z2d"
      },
      "execution_count": 7,
      "outputs": []
    },
    {
      "cell_type": "markdown",
      "source": [
        "## Load data"
      ],
      "metadata": {
        "id": "A9hyg4J4-msG"
      }
    },
    {
      "cell_type": "code",
      "source": [
        "# Download sample data\n",
        "!wget --no-check-certificate 'https://docs.google.com/uc?export=download&id=1mPDPcyc3Tj-8CqFBIBn55vDXOiwQWaLo' -O datatest.csv"
      ],
      "metadata": {
        "colab": {
          "base_uri": "https://localhost:8080/"
        },
        "id": "ThmeslRQ7Yq_",
        "outputId": "7c8748b7-63f2-4742-d89a-e774b5566c9e"
      },
      "execution_count": 9,
      "outputs": [
        {
          "output_type": "stream",
          "name": "stdout",
          "text": [
            "--2022-04-05 04:13:50--  https://docs.google.com/uc?export=download&id=1mPDPcyc3Tj-8CqFBIBn55vDXOiwQWaLo\n",
            "Resolving docs.google.com (docs.google.com)... 74.125.128.102, 74.125.128.101, 74.125.128.100, ...\n",
            "Connecting to docs.google.com (docs.google.com)|74.125.128.102|:443... connected.\n",
            "HTTP request sent, awaiting response... 303 See Other\n",
            "Location: https://doc-0c-6o-docs.googleusercontent.com/docs/securesc/ha0ro937gcuc7l7deffksulhg5h7mbp1/2devqj2quvnpf48k2uq8jrmat1rjp3fa/1649132025000/13592117086881866627/*/1mPDPcyc3Tj-8CqFBIBn55vDXOiwQWaLo?e=download [following]\n",
            "Warning: wildcards not supported in HTTP.\n",
            "--2022-04-05 04:13:50--  https://doc-0c-6o-docs.googleusercontent.com/docs/securesc/ha0ro937gcuc7l7deffksulhg5h7mbp1/2devqj2quvnpf48k2uq8jrmat1rjp3fa/1649132025000/13592117086881866627/*/1mPDPcyc3Tj-8CqFBIBn55vDXOiwQWaLo?e=download\n",
            "Resolving doc-0c-6o-docs.googleusercontent.com (doc-0c-6o-docs.googleusercontent.com)... 173.194.79.132, 2a00:1450:4013:c05::84\n",
            "Connecting to doc-0c-6o-docs.googleusercontent.com (doc-0c-6o-docs.googleusercontent.com)|173.194.79.132|:443... connected.\n",
            "HTTP request sent, awaiting response... 200 OK\n",
            "Length: 182971 (179K) [text/csv]\n",
            "Saving to: ‘datatest.csv’\n",
            "\n",
            "datatest.csv        100%[===================>] 178.68K  --.-KB/s    in 0.002s  \n",
            "\n",
            "2022-04-05 04:13:50 (106 MB/s) - ‘datatest.csv’ saved [182971/182971]\n",
            "\n"
          ]
        }
      ]
    },
    {
      "cell_type": "code",
      "source": [
        "# Load data\n",
        "data = pd.read_csv(\"datatest.csv\",index_col=0)\n",
        "data.head()"
      ],
      "metadata": {
        "colab": {
          "base_uri": "https://localhost:8080/",
          "height": 238
        },
        "id": "uzEFR_Ay6ekW",
        "outputId": "3778cc32-27ac-4687-deb6-ddf5635811cb"
      },
      "execution_count": 10,
      "outputs": [
        {
          "output_type": "execute_result",
          "data": {
            "text/plain": [
              "                     Temperature  Humidity       Light         CO2  \\\n",
              "date                                                                 \n",
              "2015-02-02 14:19:00      23.7000    26.272  585.200000  749.200000   \n",
              "2015-02-02 14:19:59      23.7180    26.290  578.400000  760.400000   \n",
              "2015-02-02 14:21:00      23.7300    26.230  572.666667  769.666667   \n",
              "2015-02-02 14:22:00      23.7225    26.125  493.750000  774.750000   \n",
              "2015-02-02 14:23:00      23.7540    26.200  488.600000  779.000000   \n",
              "\n",
              "                     HumidityRatio  Occupancy  \n",
              "date                                           \n",
              "2015-02-02 14:19:00       0.004764          1  \n",
              "2015-02-02 14:19:59       0.004773          1  \n",
              "2015-02-02 14:21:00       0.004765          1  \n",
              "2015-02-02 14:22:00       0.004744          1  \n",
              "2015-02-02 14:23:00       0.004767          1  "
            ],
            "text/html": [
              "\n",
              "  <div id=\"df-8c64654c-34d5-4b18-b6b9-e90c09086ba9\">\n",
              "    <div class=\"colab-df-container\">\n",
              "      <div>\n",
              "<style scoped>\n",
              "    .dataframe tbody tr th:only-of-type {\n",
              "        vertical-align: middle;\n",
              "    }\n",
              "\n",
              "    .dataframe tbody tr th {\n",
              "        vertical-align: top;\n",
              "    }\n",
              "\n",
              "    .dataframe thead th {\n",
              "        text-align: right;\n",
              "    }\n",
              "</style>\n",
              "<table border=\"1\" class=\"dataframe\">\n",
              "  <thead>\n",
              "    <tr style=\"text-align: right;\">\n",
              "      <th></th>\n",
              "      <th>Temperature</th>\n",
              "      <th>Humidity</th>\n",
              "      <th>Light</th>\n",
              "      <th>CO2</th>\n",
              "      <th>HumidityRatio</th>\n",
              "      <th>Occupancy</th>\n",
              "    </tr>\n",
              "    <tr>\n",
              "      <th>date</th>\n",
              "      <th></th>\n",
              "      <th></th>\n",
              "      <th></th>\n",
              "      <th></th>\n",
              "      <th></th>\n",
              "      <th></th>\n",
              "    </tr>\n",
              "  </thead>\n",
              "  <tbody>\n",
              "    <tr>\n",
              "      <th>2015-02-02 14:19:00</th>\n",
              "      <td>23.7000</td>\n",
              "      <td>26.272</td>\n",
              "      <td>585.200000</td>\n",
              "      <td>749.200000</td>\n",
              "      <td>0.004764</td>\n",
              "      <td>1</td>\n",
              "    </tr>\n",
              "    <tr>\n",
              "      <th>2015-02-02 14:19:59</th>\n",
              "      <td>23.7180</td>\n",
              "      <td>26.290</td>\n",
              "      <td>578.400000</td>\n",
              "      <td>760.400000</td>\n",
              "      <td>0.004773</td>\n",
              "      <td>1</td>\n",
              "    </tr>\n",
              "    <tr>\n",
              "      <th>2015-02-02 14:21:00</th>\n",
              "      <td>23.7300</td>\n",
              "      <td>26.230</td>\n",
              "      <td>572.666667</td>\n",
              "      <td>769.666667</td>\n",
              "      <td>0.004765</td>\n",
              "      <td>1</td>\n",
              "    </tr>\n",
              "    <tr>\n",
              "      <th>2015-02-02 14:22:00</th>\n",
              "      <td>23.7225</td>\n",
              "      <td>26.125</td>\n",
              "      <td>493.750000</td>\n",
              "      <td>774.750000</td>\n",
              "      <td>0.004744</td>\n",
              "      <td>1</td>\n",
              "    </tr>\n",
              "    <tr>\n",
              "      <th>2015-02-02 14:23:00</th>\n",
              "      <td>23.7540</td>\n",
              "      <td>26.200</td>\n",
              "      <td>488.600000</td>\n",
              "      <td>779.000000</td>\n",
              "      <td>0.004767</td>\n",
              "      <td>1</td>\n",
              "    </tr>\n",
              "  </tbody>\n",
              "</table>\n",
              "</div>\n",
              "      <button class=\"colab-df-convert\" onclick=\"convertToInteractive('df-8c64654c-34d5-4b18-b6b9-e90c09086ba9')\"\n",
              "              title=\"Convert this dataframe to an interactive table.\"\n",
              "              style=\"display:none;\">\n",
              "        \n",
              "  <svg xmlns=\"http://www.w3.org/2000/svg\" height=\"24px\"viewBox=\"0 0 24 24\"\n",
              "       width=\"24px\">\n",
              "    <path d=\"M0 0h24v24H0V0z\" fill=\"none\"/>\n",
              "    <path d=\"M18.56 5.44l.94 2.06.94-2.06 2.06-.94-2.06-.94-.94-2.06-.94 2.06-2.06.94zm-11 1L8.5 8.5l.94-2.06 2.06-.94-2.06-.94L8.5 2.5l-.94 2.06-2.06.94zm10 10l.94 2.06.94-2.06 2.06-.94-2.06-.94-.94-2.06-.94 2.06-2.06.94z\"/><path d=\"M17.41 7.96l-1.37-1.37c-.4-.4-.92-.59-1.43-.59-.52 0-1.04.2-1.43.59L10.3 9.45l-7.72 7.72c-.78.78-.78 2.05 0 2.83L4 21.41c.39.39.9.59 1.41.59.51 0 1.02-.2 1.41-.59l7.78-7.78 2.81-2.81c.8-.78.8-2.07 0-2.86zM5.41 20L4 18.59l7.72-7.72 1.47 1.35L5.41 20z\"/>\n",
              "  </svg>\n",
              "      </button>\n",
              "      \n",
              "  <style>\n",
              "    .colab-df-container {\n",
              "      display:flex;\n",
              "      flex-wrap:wrap;\n",
              "      gap: 12px;\n",
              "    }\n",
              "\n",
              "    .colab-df-convert {\n",
              "      background-color: #E8F0FE;\n",
              "      border: none;\n",
              "      border-radius: 50%;\n",
              "      cursor: pointer;\n",
              "      display: none;\n",
              "      fill: #1967D2;\n",
              "      height: 32px;\n",
              "      padding: 0 0 0 0;\n",
              "      width: 32px;\n",
              "    }\n",
              "\n",
              "    .colab-df-convert:hover {\n",
              "      background-color: #E2EBFA;\n",
              "      box-shadow: 0px 1px 2px rgba(60, 64, 67, 0.3), 0px 1px 3px 1px rgba(60, 64, 67, 0.15);\n",
              "      fill: #174EA6;\n",
              "    }\n",
              "\n",
              "    [theme=dark] .colab-df-convert {\n",
              "      background-color: #3B4455;\n",
              "      fill: #D2E3FC;\n",
              "    }\n",
              "\n",
              "    [theme=dark] .colab-df-convert:hover {\n",
              "      background-color: #434B5C;\n",
              "      box-shadow: 0px 1px 3px 1px rgba(0, 0, 0, 0.15);\n",
              "      filter: drop-shadow(0px 1px 2px rgba(0, 0, 0, 0.3));\n",
              "      fill: #FFFFFF;\n",
              "    }\n",
              "  </style>\n",
              "\n",
              "      <script>\n",
              "        const buttonEl =\n",
              "          document.querySelector('#df-8c64654c-34d5-4b18-b6b9-e90c09086ba9 button.colab-df-convert');\n",
              "        buttonEl.style.display =\n",
              "          google.colab.kernel.accessAllowed ? 'block' : 'none';\n",
              "\n",
              "        async function convertToInteractive(key) {\n",
              "          const element = document.querySelector('#df-8c64654c-34d5-4b18-b6b9-e90c09086ba9');\n",
              "          const dataTable =\n",
              "            await google.colab.kernel.invokeFunction('convertToInteractive',\n",
              "                                                     [key], {});\n",
              "          if (!dataTable) return;\n",
              "\n",
              "          const docLinkHtml = 'Like what you see? Visit the ' +\n",
              "            '<a target=\"_blank\" href=https://colab.research.google.com/notebooks/data_table.ipynb>data table notebook</a>'\n",
              "            + ' to learn more about interactive tables.';\n",
              "          element.innerHTML = '';\n",
              "          dataTable['output_type'] = 'display_data';\n",
              "          await google.colab.output.renderOutput(dataTable, element);\n",
              "          const docLink = document.createElement('div');\n",
              "          docLink.innerHTML = docLinkHtml;\n",
              "          element.appendChild(docLink);\n",
              "        }\n",
              "      </script>\n",
              "    </div>\n",
              "  </div>\n",
              "  "
            ]
          },
          "metadata": {},
          "execution_count": 10
        }
      ]
    },
    {
      "cell_type": "markdown",
      "source": [
        "## Compute boundaries for discretization\n",
        "\n",
        "discretize() have 3 discretization modes:\n",
        "\n",
        "- **uniform:** Discretize data into uniform ranges\n",
        "- **MEP:** Maximum Entropy Partitioning\n",
        "- **unique:** Discretize by each unique value in the data (not recommended for floats)"
      ],
      "metadata": {
        "id": "i1NBR10VvXXf"
      }
    },
    {
      "cell_type": "code",
      "source": [
        "# Generate and visualize boundaries\n",
        "boundaries = discretize(data['Temperature'].values, mode=\"uniform\", numparts=5)\n",
        "print(boundaries)\n",
        "\n",
        "visualize_bounds(data['Temperature'].values, boundaries)"
      ],
      "metadata": {
        "colab": {
          "base_uri": "https://localhost:8080/",
          "height": 282
        },
        "id": "sTMAdySx6e7I",
        "outputId": "8bbc73ef-b742-4301-9982-ebb5313d3ed6"
      },
      "execution_count": 11,
      "outputs": [
        {
          "output_type": "stream",
          "name": "stdout",
          "text": [
            "[21.04166667 21.88333333 22.725      23.56666667]\n"
          ]
        },
        {
          "output_type": "display_data",
          "data": {
            "text/plain": [
              "<Figure size 432x288 with 1 Axes>"
            ],
            "image/png": "[encoded data removed]"
          },
          "metadata": {
            "needs_background": "light"
          }
        }
      ]
    },
    {
      "cell_type": "markdown",
      "source": [
        "## Symbolize data using defined boundaries"
      ],
      "metadata": {
        "id": "4yH-vcK8w6By"
      }
    },
    {
      "cell_type": "code",
      "source": [
        "# Symbolize data using defined boundaries\n",
        "symbolized_data = symbolize(data['Temperature'].values, boundaries)\n",
        "symbolized_data"
      ],
      "metadata": {
        "colab": {
          "base_uri": "https://localhost:8080/"
        },
        "id": "tyC2ffAH7HEu",
        "outputId": "ba6d442c-1283-4930-ed44-13cad2d0f7ed"
      },
      "execution_count": 12,
      "outputs": [
        {
          "output_type": "execute_result",
          "data": {
            "text/plain": [
              "array(['5', '5', '5', ..., '5', '5', '5'], dtype='<U1')"
            ]
          },
          "metadata": {},
          "execution_count": 12
        }
      ]
    },
    {
      "cell_type": "markdown",
      "source": [
        "## Generate *state* using symbolized data"
      ],
      "metadata": {
        "id": "QOjwSLO3xDVs"
      }
    },
    {
      "cell_type": "code",
      "source": [
        "# Generate state(symbolized data with defined depth) using symbolized data\n",
        "state = state_gen(symbolized_data, depth=depth, tau=tau)\n",
        "state[:10]"
      ],
      "metadata": {
        "colab": {
          "base_uri": "https://localhost:8080/"
        },
        "id": "VwqTtngn7JFv",
        "outputId": "90c82108-73e7-498d-8e57-8ee152f212c9"
      },
      "execution_count": 13,
      "outputs": [
        {
          "output_type": "execute_result",
          "data": {
            "text/plain": [
              "['5,5,5',\n",
              " '5,5,5',\n",
              " '5,5,5',\n",
              " '5,5,5',\n",
              " '5,5,5',\n",
              " '5,5,5',\n",
              " '5,5,5',\n",
              " '5,5,5',\n",
              " '5,5,5',\n",
              " '5,5,5']"
            ]
          },
          "metadata": {},
          "execution_count": 13
        }
      ]
    },
    {
      "cell_type": "code",
      "source": [
        "# (optional) Re-define state's element to single \"symbol\" representation\n",
        "# Function coming soon"
      ],
      "metadata": {
        "id": "W8Hfe8cs7NdW"
      },
      "execution_count": null,
      "outputs": []
    },
    {
      "cell_type": "markdown",
      "source": [
        "## Prepare prediction target\n",
        "\n",
        "**Note:** For demonstration purpose, this tutorial is using the same data for training and testing/prediction!"
      ],
      "metadata": {
        "id": "mK4Jk9fMxMHt"
      }
    },
    {
      "cell_type": "code",
      "source": [
        "# Define prediction target\n",
        "occupancy = data['Occupancy'].values # Classification (Binary)\n",
        "occupancy[:10]\n",
        "# Use symbolized_data(temperature) # Regression (Multi-class Classification)"
      ],
      "metadata": {
        "colab": {
          "base_uri": "https://localhost:8080/"
        },
        "id": "N3wCn-pX7P6H",
        "outputId": "19023466-8105-4f29-c713-e76c8f534bfd"
      },
      "execution_count": 14,
      "outputs": [
        {
          "output_type": "execute_result",
          "data": {
            "text/plain": [
              "array([1, 1, 1, 1, 1, 1, 1, 1, 1, 1])"
            ]
          },
          "metadata": {},
          "execution_count": 14
        }
      ]
    },
    {
      "cell_type": "code",
      "source": [
        "# Trim state with depth (see figure for clarification)\n",
        "occupancy = occupancy[depth+tau:]\n",
        "temperature = symbolized_data[depth+tau:]\n",
        "\n",
        "assert len(temperature)==(len(data['Temperature'].values)-depth-tau)\n",
        "assert len(occupancy)==(len(data['Temperature'].values)-depth-tau)\n",
        "\n",
        "assert len(temperature)==len(state)\n",
        "assert len(occupancy)==len(state)"
      ],
      "metadata": {
        "id": "bLvDhdin7S-f"
      },
      "execution_count": 15,
      "outputs": []
    },
    {
      "cell_type": "markdown",
      "source": [
        "## Learn the transition matrix\n",
        "\n",
        "In this tutorial, we use ***occupancy*** as the binary target and the ***temperature*** as the multi-target.\n",
        "\n",
        "compute_TM() returns:\n",
        "- ***Transition matrix (TM)***\n",
        "- ***TM element counts***\n",
        "- ***Unique targets***"
      ],
      "metadata": {
        "id": "hkGkrbWJxk4-"
      }
    },
    {
      "cell_type": "code",
      "source": [
        "# Construct state-occupancy Trans. Mat.\n",
        "TM_binary, TM_binary_c, binary_targets = compute_TM(state, occupancy, True)\n",
        "print(\"TM_binary:\",TM_binary)\n",
        "print(\"TM_binary_c:\",TM_binary_c)\n",
        "print(\"binary_targets:\",binary_targets)\n",
        "\n",
        "# Construct state-temperature Trans. Mat.\n",
        "TM_multi, TM_multi_c, multi_targets = compute_TM(state, temperature, True)"
      ],
      "metadata": {
        "colab": {
          "base_uri": "https://localhost:8080/"
        },
        "id": "f8axTsVz7WI1",
        "outputId": "a1fd8e90-2ee8-4c85-d9c5-8a688479c71e"
      },
      "execution_count": 16,
      "outputs": [
        {
          "output_type": "stream",
          "name": "stdout",
          "text": [
            "TM_binary: {'1,1,1': array([0.9000694, 0.0999306]), '1,1,2': array([0.5, 0.5]), '1,2,1': array([1., 0.]), '1,2,2': array([0., 1.]), '2,1,1': array([1., 0.]), '2,2,1': array([1., 0.]), '2,2,2': array([0.67733333, 0.32266667]), '2,2,3': array([0., 1.]), '2,3,3': array([0., 1.]), '3,2,2': array([1., 0.]), '3,3,2': array([1., 0.]), '3,3,3': array([0.25706941, 0.74293059]), '3,3,4': array([0., 1.]), '3,4,3': array([0., 1.]), '3,4,4': array([0., 1.]), '4,3,3': array([0., 1.]), '4,3,4': array([0., 1.]), '4,4,3': array([0., 1.]), '4,4,4': array([0.08358209, 0.91641791]), '4,4,5': array([0., 1.]), '4,5,4': array([0., 1.]), '4,5,5': array([0., 1.]), '5,4,4': array([0., 1.]), '5,4,5': array([0., 1.]), '5,5,4': array([0., 1.]), '5,5,5': array([0., 1.])}\n",
            "TM_binary_c: {'1,1,1': [1297, 144], '1,1,2': [2, 2], '1,2,1': [2, 0.0], '1,2,2': [0.0, 2], '2,1,1': [4, 0.0], '2,2,1': [2, 0.0], '2,2,2': [254, 121], '2,2,3': [0.0, 2], '2,3,3': [0.0, 2], '3,2,2': [2, 0.0], '3,3,2': [2, 0.0], '3,3,3': [100, 289], '3,3,4': [0.0, 4], '3,4,3': [0.0, 1], '3,4,4': [0.0, 4], '4,3,3': [0.0, 4], '4,3,4': [0.0, 1], '4,4,3': [0.0, 4], '4,4,4': [28, 307], '4,4,5': [0.0, 1], '4,5,4': [0.0, 1], '4,5,5': [0.0, 1], '5,4,4': [0.0, 1], '5,4,5': [0.0, 1], '5,5,4': [0.0, 1], '5,5,5': [0.0, 76]}\n",
            "binary_targets: [0 1]\n"
          ]
        }
      ]
    },
    {
      "cell_type": "markdown",
      "source": [
        "## Perform inferencing\n",
        "\n"
      ],
      "metadata": {
        "id": "kll8mN0iyrVT"
      }
    },
    {
      "cell_type": "code",
      "source": [
        "# Inferencing using state-occupancy Trans. Mat.\n",
        "occ_pred = inference(state, TM_binary, binary_targets, mode=\"ffill\", verbose=1)\n",
        "print(occ_pred[:10])\n",
        "\n",
        "# Inferencing using state-temperature Trans. Mat.\n",
        "temp_pred = inference(state, TM_multi, multi_targets, mode=\"ffill\", verbose=1)"
      ],
      "metadata": {
        "colab": {
          "base_uri": "https://localhost:8080/"
        },
        "id": "R-L5L4rr7bz1",
        "outputId": "491e05cb-e2a0-405f-803f-a6342161c2a4"
      },
      "execution_count": 19,
      "outputs": [
        {
          "output_type": "stream",
          "name": "stdout",
          "text": [
            "[1 1 1 1 1 1 1 1 1 1]\n"
          ]
        }
      ]
    },
    {
      "cell_type": "markdown",
      "source": [
        "## Evaluate inference results\n",
        "\n",
        "***eval()*** returns a dictionary containing number of metrics which gives a thorough evaluation of the inference results (credits to [sklearn.metrics.classification_report()](https://scikit-learn.org/stable/modules/generated/sklearn.metrics.classification_report.html)).\n",
        "\n",
        "\n",
        "***STPN.util*** also provides ***plot_confusion_matrix()*** which plots a confusion matrix of the inference results."
      ],
      "metadata": {
        "id": "Th3MBdKH0ABv"
      }
    },
    {
      "cell_type": "code",
      "source": [
        "# Evaluate inference results\n",
        "print(\"# Binary Occupancy\")\n",
        "occ_results = eval(occupancy, occ_pred, binary_targets, save_resu=False, print_cls_acc=True)\n",
        "plot_confusion_matrix(occ_results['cm'],binary_targets)\n",
        "\n",
        "print(\"\\n\")\n",
        "print(\"# Multi-target Temperature\")\n",
        "temp_results = eval(temperature, temp_pred, multi_targets, save_resu=False, print_cls_acc=False)\n",
        "plot_confusion_matrix(temp_results['cm'],multi_targets)"
      ],
      "metadata": {
        "colab": {
          "base_uri": "https://localhost:8080/",
          "height": 1000
        },
        "id": "5Boykkth6iop",
        "outputId": "f25f7e67-2226-4fab-ab86-e2ca322fdd84"
      },
      "execution_count": 20,
      "outputs": [
        {
          "output_type": "stream",
          "name": "stdout",
          "text": [
            "# Binary Occupancy\n",
            "=======================================================\n",
            "              precision    recall  f1-score   support\n",
            "\n",
            "           0   0.854258  0.924395  0.887943      1693\n",
            "           1   0.845783  0.724458  0.780434       969\n",
            "\n",
            "    accuracy                       0.851615      2662\n",
            "   macro avg   0.850020  0.824426  0.834188      2662\n",
            "weighted avg   0.851173  0.851615  0.848808      2662\n",
            "\n",
            "Class Accuracies: {'0': 0.9243945658594211, '1': 0.7244582043343654}\n",
            "=======================================================\n",
            "\n",
            "\n"
          ]
        },
        {
          "output_type": "display_data",
          "data": {
            "text/plain": [
              "<Figure size 432x288 with 2 Axes>"
            ],
            "image/png": "[encoded data removed]"
          },
          "metadata": {
            "needs_background": "light"
          }
        },
        {
          "output_type": "stream",
          "name": "stdout",
          "text": [
            "\n",
            "\n",
            "# Multi-target Temperature\n",
            "=======================================================\n",
            "              precision    recall  f1-score   support\n",
            "\n",
            "           1   0.995871  0.998620  0.997243      1449\n",
            "           2   0.989501  0.979221  0.984334       385\n",
            "           3   0.982587  0.982587  0.982587       402\n",
            "           4   0.982709  0.982709  0.982709       347\n",
            "           5   0.987342  0.987342  0.987342        79\n",
            "\n",
            "    accuracy                       0.990984      2662\n",
            "   macro avg   0.987602  0.986096  0.986843      2662\n",
            "weighted avg   0.990975  0.990984  0.990975      2662\n",
            "\n",
            "=======================================================\n",
            "\n",
            "\n"
          ]
        },
        {
          "output_type": "display_data",
          "data": {
            "text/plain": [
              "<Figure size 432x288 with 2 Axes>"
            ],
            "image/png": "[encoded data removed]"
          },
          "metadata": {
            "needs_background": "light"
          }
        }
      ]
    }
  ]
}